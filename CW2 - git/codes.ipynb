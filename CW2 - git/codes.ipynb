{
 "cells": [
  {
   "cell_type": "code",
   "execution_count": 6,
   "id": "initial_id",
   "metadata": {
    "collapsed": true,
    "ExecuteTime": {
     "end_time": "2024-05-03T05:25:43.558853100Z",
     "start_time": "2024-05-03T05:25:43.244100500Z"
    }
   },
   "outputs": [],
   "source": [
    "import pandas as pd\n",
    "from sklearn.preprocessing import StandardScaler\n",
    "\n",
    "\n",
    "# read data\n",
    "data =pd.read_csv('Encoded_Results_21Mar2022.csv')\n",
    "# Standard normalization\n",
    "columns_to_normalize=['mean_ghgs','mean_watscar','mean_bio','mean_eut','mean_watuse','mean_acid','sd_ghgs','sd_watscar','sd_bio','sd_eut','sd_watuse','sd_acid']\n",
    "data_to_normalize=data[columns_to_normalize]\n",
    "scaler = StandardScaler()\n",
    "normalized_data = scaler.fit_transform(data_to_normalize)\n",
    "normalized_df = pd.DataFrame(normalized_data, columns=columns_to_normalize, index=data.index)\n",
    "normalized_df['age_group'] = data['age_group']\n",
    "normalized_df['sex'] = data['sex']\n",
    "\n",
    "# combined sex and age_group into a single feature\n",
    "normalized_df['age_sex']=normalized_df['age_group']+'_'+normalized_df['sex']\n",
    "grouped_data =normalized_df.groupby(['age_sex'])[columns_to_normalize].mean()\n",
    "\n",
    "# export csv\n",
    "grouped_data.to_csv('transfer_data.csv', index=True)"
   ]
  },
  {
   "cell_type": "code",
   "outputs": [],
   "source": [
    "# read data\n",
    "data = pd.read_csv('transfer_data.csv')\n",
    "\n",
    "# converted to long-format data\n",
    "mean_col=[col for col in data.columns if 'mean_' in col]\n",
    "sd_col=[col for col in data.columns if 'sd_' in col]\n",
    "mean_data=data.melt(id_vars=['age_sex'], value_vars=mean_col, var_name='Indicator', value_name='Value')\n",
    "mean_data['Indicator']= mean_data['Indicator'].str.replace('mean_', '')\n",
    "sd_data = data.melt(id_vars=['age_sex'], value_vars=sd_col, var_name='Indicator', value_name='Sd')\n",
    "sd_data['Indicator'] = sd_data['Indicator'].str.replace('sd_', '')\n",
    "final_data = pd.merge(mean_data, sd_data, on=['age_sex', 'Indicator'])\n",
    "\n",
    "# export csv\n",
    "final_data.to_csv('final_data.csv', index=False)"
   ],
   "metadata": {
    "collapsed": false,
    "ExecuteTime": {
     "end_time": "2024-05-03T05:27:43.788620100Z",
     "start_time": "2024-05-03T05:27:43.764512400Z"
    }
   },
   "id": "db81fb0da8cc511f",
   "execution_count": 10
  }
 ],
 "metadata": {
  "kernelspec": {
   "display_name": "Python 3",
   "language": "python",
   "name": "python3"
  },
  "language_info": {
   "codemirror_mode": {
    "name": "ipython",
    "version": 2
   },
   "file_extension": ".py",
   "mimetype": "text/x-python",
   "name": "python",
   "nbconvert_exporter": "python",
   "pygments_lexer": "ipython2",
   "version": "2.7.6"
  }
 },
 "nbformat": 4,
 "nbformat_minor": 5
}
